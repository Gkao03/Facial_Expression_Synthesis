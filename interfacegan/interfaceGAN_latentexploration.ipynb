{
  "nbformat": 4,
  "nbformat_minor": 0,
  "metadata": {
    "colab": {
      "name": "interfaceGAN_latentexploration.ipynb",
      "provenance": []
    },
    "kernelspec": {
      "name": "python3",
      "display_name": "Python 3"
    },
    "language_info": {
      "name": "python"
    },
    "accelerator": "GPU",
    "widgets": {
      "application/vnd.jupyter.widget-state+json": {
        "1c5aa4e5378f45a8875e4303fab500d3": {
          "model_module": "@jupyter-widgets/controls",
          "model_name": "HBoxModel",
          "model_module_version": "1.5.0",
          "state": {
            "_dom_classes": [],
            "_model_module": "@jupyter-widgets/controls",
            "_model_module_version": "1.5.0",
            "_model_name": "HBoxModel",
            "_view_count": null,
            "_view_module": "@jupyter-widgets/controls",
            "_view_module_version": "1.5.0",
            "_view_name": "HBoxView",
            "box_style": "",
            "children": [
              "IPY_MODEL_430312cdada24b8eb515f814737238b3",
              "IPY_MODEL_ac00004ff8d24b38b8a9a38cb2cebb3a",
              "IPY_MODEL_29c86c0e6c7148ad9d6733d2889509f4"
            ],
            "layout": "IPY_MODEL_69838a03b77d497da863a9bd4d3f425e"
          }
        },
        "430312cdada24b8eb515f814737238b3": {
          "model_module": "@jupyter-widgets/controls",
          "model_name": "HTMLModel",
          "model_module_version": "1.5.0",
          "state": {
            "_dom_classes": [],
            "_model_module": "@jupyter-widgets/controls",
            "_model_module_version": "1.5.0",
            "_model_name": "HTMLModel",
            "_view_count": null,
            "_view_module": "@jupyter-widgets/controls",
            "_view_module_version": "1.5.0",
            "_view_name": "HTMLView",
            "description": "",
            "description_tooltip": null,
            "layout": "IPY_MODEL_d427bc338d2a427a95431ad90f754de1",
            "placeholder": "​",
            "style": "IPY_MODEL_b20b89f03b4241d095e1a4d060a3c839",
            "value": "100%"
          }
        },
        "ac00004ff8d24b38b8a9a38cb2cebb3a": {
          "model_module": "@jupyter-widgets/controls",
          "model_name": "FloatProgressModel",
          "model_module_version": "1.5.0",
          "state": {
            "_dom_classes": [],
            "_model_module": "@jupyter-widgets/controls",
            "_model_module_version": "1.5.0",
            "_model_name": "FloatProgressModel",
            "_view_count": null,
            "_view_module": "@jupyter-widgets/controls",
            "_view_module_version": "1.5.0",
            "_view_name": "ProgressView",
            "bar_style": "success",
            "description": "",
            "description_tooltip": null,
            "layout": "IPY_MODEL_78c2e8631acd48519c0d79cf3be0a726",
            "max": 276985075,
            "min": 0,
            "orientation": "horizontal",
            "style": "IPY_MODEL_81d0800101124edb8829eb79e34046b9",
            "value": 276985075
          }
        },
        "29c86c0e6c7148ad9d6733d2889509f4": {
          "model_module": "@jupyter-widgets/controls",
          "model_name": "HTMLModel",
          "model_module_version": "1.5.0",
          "state": {
            "_dom_classes": [],
            "_model_module": "@jupyter-widgets/controls",
            "_model_module_version": "1.5.0",
            "_model_name": "HTMLModel",
            "_view_count": null,
            "_view_module": "@jupyter-widgets/controls",
            "_view_module_version": "1.5.0",
            "_view_name": "HTMLView",
            "description": "",
            "description_tooltip": null,
            "layout": "IPY_MODEL_c4d83ca6617e4133ac361687c0675576",
            "placeholder": "​",
            "style": "IPY_MODEL_39089f06da63428eb54815328baa219d",
            "value": " 264M/264M [00:08&lt;00:00, 32.9MB/s]"
          }
        },
        "69838a03b77d497da863a9bd4d3f425e": {
          "model_module": "@jupyter-widgets/base",
          "model_name": "LayoutModel",
          "model_module_version": "1.2.0",
          "state": {
            "_model_module": "@jupyter-widgets/base",
            "_model_module_version": "1.2.0",
            "_model_name": "LayoutModel",
            "_view_count": null,
            "_view_module": "@jupyter-widgets/base",
            "_view_module_version": "1.2.0",
            "_view_name": "LayoutView",
            "align_content": null,
            "align_items": null,
            "align_self": null,
            "border": null,
            "bottom": null,
            "display": null,
            "flex": null,
            "flex_flow": null,
            "grid_area": null,
            "grid_auto_columns": null,
            "grid_auto_flow": null,
            "grid_auto_rows": null,
            "grid_column": null,
            "grid_gap": null,
            "grid_row": null,
            "grid_template_areas": null,
            "grid_template_columns": null,
            "grid_template_rows": null,
            "height": null,
            "justify_content": null,
            "justify_items": null,
            "left": null,
            "margin": null,
            "max_height": null,
            "max_width": null,
            "min_height": null,
            "min_width": null,
            "object_fit": null,
            "object_position": null,
            "order": null,
            "overflow": null,
            "overflow_x": null,
            "overflow_y": null,
            "padding": null,
            "right": null,
            "top": null,
            "visibility": null,
            "width": null
          }
        },
        "d427bc338d2a427a95431ad90f754de1": {
          "model_module": "@jupyter-widgets/base",
          "model_name": "LayoutModel",
          "model_module_version": "1.2.0",
          "state": {
            "_model_module": "@jupyter-widgets/base",
            "_model_module_version": "1.2.0",
            "_model_name": "LayoutModel",
            "_view_count": null,
            "_view_module": "@jupyter-widgets/base",
            "_view_module_version": "1.2.0",
            "_view_name": "LayoutView",
            "align_content": null,
            "align_items": null,
            "align_self": null,
            "border": null,
            "bottom": null,
            "display": null,
            "flex": null,
            "flex_flow": null,
            "grid_area": null,
            "grid_auto_columns": null,
            "grid_auto_flow": null,
            "grid_auto_rows": null,
            "grid_column": null,
            "grid_gap": null,
            "grid_row": null,
            "grid_template_areas": null,
            "grid_template_columns": null,
            "grid_template_rows": null,
            "height": null,
            "justify_content": null,
            "justify_items": null,
            "left": null,
            "margin": null,
            "max_height": null,
            "max_width": null,
            "min_height": null,
            "min_width": null,
            "object_fit": null,
            "object_position": null,
            "order": null,
            "overflow": null,
            "overflow_x": null,
            "overflow_y": null,
            "padding": null,
            "right": null,
            "top": null,
            "visibility": null,
            "width": null
          }
        },
        "b20b89f03b4241d095e1a4d060a3c839": {
          "model_module": "@jupyter-widgets/controls",
          "model_name": "DescriptionStyleModel",
          "model_module_version": "1.5.0",
          "state": {
            "_model_module": "@jupyter-widgets/controls",
            "_model_module_version": "1.5.0",
            "_model_name": "DescriptionStyleModel",
            "_view_count": null,
            "_view_module": "@jupyter-widgets/base",
            "_view_module_version": "1.2.0",
            "_view_name": "StyleView",
            "description_width": ""
          }
        },
        "78c2e8631acd48519c0d79cf3be0a726": {
          "model_module": "@jupyter-widgets/base",
          "model_name": "LayoutModel",
          "model_module_version": "1.2.0",
          "state": {
            "_model_module": "@jupyter-widgets/base",
            "_model_module_version": "1.2.0",
            "_model_name": "LayoutModel",
            "_view_count": null,
            "_view_module": "@jupyter-widgets/base",
            "_view_module_version": "1.2.0",
            "_view_name": "LayoutView",
            "align_content": null,
            "align_items": null,
            "align_self": null,
            "border": null,
            "bottom": null,
            "display": null,
            "flex": null,
            "flex_flow": null,
            "grid_area": null,
            "grid_auto_columns": null,
            "grid_auto_flow": null,
            "grid_auto_rows": null,
            "grid_column": null,
            "grid_gap": null,
            "grid_row": null,
            "grid_template_areas": null,
            "grid_template_columns": null,
            "grid_template_rows": null,
            "height": null,
            "justify_content": null,
            "justify_items": null,
            "left": null,
            "margin": null,
            "max_height": null,
            "max_width": null,
            "min_height": null,
            "min_width": null,
            "object_fit": null,
            "object_position": null,
            "order": null,
            "overflow": null,
            "overflow_x": null,
            "overflow_y": null,
            "padding": null,
            "right": null,
            "top": null,
            "visibility": null,
            "width": null
          }
        },
        "81d0800101124edb8829eb79e34046b9": {
          "model_module": "@jupyter-widgets/controls",
          "model_name": "ProgressStyleModel",
          "model_module_version": "1.5.0",
          "state": {
            "_model_module": "@jupyter-widgets/controls",
            "_model_module_version": "1.5.0",
            "_model_name": "ProgressStyleModel",
            "_view_count": null,
            "_view_module": "@jupyter-widgets/base",
            "_view_module_version": "1.2.0",
            "_view_name": "StyleView",
            "bar_color": null,
            "description_width": ""
          }
        },
        "c4d83ca6617e4133ac361687c0675576": {
          "model_module": "@jupyter-widgets/base",
          "model_name": "LayoutModel",
          "model_module_version": "1.2.0",
          "state": {
            "_model_module": "@jupyter-widgets/base",
            "_model_module_version": "1.2.0",
            "_model_name": "LayoutModel",
            "_view_count": null,
            "_view_module": "@jupyter-widgets/base",
            "_view_module_version": "1.2.0",
            "_view_name": "LayoutView",
            "align_content": null,
            "align_items": null,
            "align_self": null,
            "border": null,
            "bottom": null,
            "display": null,
            "flex": null,
            "flex_flow": null,
            "grid_area": null,
            "grid_auto_columns": null,
            "grid_auto_flow": null,
            "grid_auto_rows": null,
            "grid_column": null,
            "grid_gap": null,
            "grid_row": null,
            "grid_template_areas": null,
            "grid_template_columns": null,
            "grid_template_rows": null,
            "height": null,
            "justify_content": null,
            "justify_items": null,
            "left": null,
            "margin": null,
            "max_height": null,
            "max_width": null,
            "min_height": null,
            "min_width": null,
            "object_fit": null,
            "object_position": null,
            "order": null,
            "overflow": null,
            "overflow_x": null,
            "overflow_y": null,
            "padding": null,
            "right": null,
            "top": null,
            "visibility": null,
            "width": null
          }
        },
        "39089f06da63428eb54815328baa219d": {
          "model_module": "@jupyter-widgets/controls",
          "model_name": "DescriptionStyleModel",
          "model_module_version": "1.5.0",
          "state": {
            "_model_module": "@jupyter-widgets/controls",
            "_model_module_version": "1.5.0",
            "_model_name": "DescriptionStyleModel",
            "_view_count": null,
            "_view_module": "@jupyter-widgets/base",
            "_view_module_version": "1.2.0",
            "_view_name": "StyleView",
            "description_width": ""
          }
        }
      }
    }
  },
  "cells": [
    {
      "cell_type": "code",
      "execution_count": null,
      "metadata": {
        "id": "hj7RqVFXc0Kg",
        "colab": {
          "base_uri": "https://localhost:8080/"
        },
        "outputId": "cd0a1568-f2ef-4fc1-cf6e-89c0adf3dc77"
      },
      "outputs": [
        {
          "output_type": "stream",
          "name": "stdout",
          "text": [
            "Mounted at /content/gdrive\n"
          ]
        }
      ],
      "source": [
        "from google.colab import drive\n",
        "drive.mount('/content/gdrive')"
      ]
    },
    {
      "cell_type": "code",
      "source": [
        "!ls"
      ],
      "metadata": {
        "colab": {
          "base_uri": "https://localhost:8080/"
        },
        "id": "X46I4DvSpZE6",
        "outputId": "e448bf2d-7a50-4502-8f85-9397d5dd3a47"
      },
      "execution_count": null,
      "outputs": [
        {
          "output_type": "stream",
          "name": "stdout",
          "text": [
            "gdrive\tsample_data\n"
          ]
        }
      ]
    },
    {
      "cell_type": "code",
      "source": [
        "# !git clone https://github.com/genforce/interfacegan.git"
      ],
      "metadata": {
        "colab": {
          "base_uri": "https://localhost:8080/"
        },
        "id": "59EeJgwFpXH5",
        "outputId": "1bb24de4-b4de-4e91-909c-853adbd94f91"
      },
      "execution_count": null,
      "outputs": [
        {
          "output_type": "stream",
          "name": "stdout",
          "text": [
            "Cloning into 'interfacegan'...\n",
            "remote: Enumerating objects: 613, done.\u001b[K\n",
            "remote: Counting objects: 100% (366/366), done.\u001b[K\n",
            "remote: Compressing objects: 100% (312/312), done.\u001b[K\n",
            "remote: Total 613 (delta 104), reused 303 (delta 54), pack-reused 247\u001b[K\n",
            "Receiving objects: 100% (613/613), 13.74 MiB | 33.99 MiB/s, done.\n",
            "Resolving deltas: 100% (189/189), done.\n"
          ]
        }
      ]
    },
    {
      "cell_type": "code",
      "source": [
        "!git clone https://github.com/Gkao03/interfacegan.git"
      ],
      "metadata": {
        "colab": {
          "base_uri": "https://localhost:8080/"
        },
        "id": "HTmLPnVcqzxq",
        "outputId": "fe3d45f5-17cf-4a5c-b42a-c6582bca87bb"
      },
      "execution_count": null,
      "outputs": [
        {
          "output_type": "stream",
          "name": "stdout",
          "text": [
            "Cloning into 'interfacegan'...\n",
            "remote: Enumerating objects: 641, done.\u001b[K\n",
            "remote: Counting objects: 100% (152/152), done.\u001b[K\n",
            "remote: Compressing objects: 100% (48/48), done.\u001b[K\n",
            "remote: Total 641 (delta 114), reused 112 (delta 104), pack-reused 489\u001b[K\n",
            "Receiving objects: 100% (641/641), 13.73 MiB | 32.54 MiB/s, done.\n",
            "Resolving deltas: 100% (224/224), done.\n"
          ]
        }
      ]
    },
    {
      "cell_type": "code",
      "source": [
        "%cd interfacegan"
      ],
      "metadata": {
        "colab": {
          "base_uri": "https://localhost:8080/"
        },
        "id": "FZaCpct76ici",
        "outputId": "e47e0136-8448-47c6-d98f-8ded5b7a063a"
      },
      "execution_count": null,
      "outputs": [
        {
          "output_type": "stream",
          "name": "stdout",
          "text": [
            "/content/interfacegan\n"
          ]
        }
      ]
    },
    {
      "cell_type": "code",
      "source": [
        "!git pull"
      ],
      "metadata": {
        "colab": {
          "base_uri": "https://localhost:8080/"
        },
        "id": "7R54zOW7t5jJ",
        "outputId": "6f520223-d6a9-4eff-e66f-0feb0dc65fec"
      },
      "execution_count": null,
      "outputs": [
        {
          "output_type": "stream",
          "name": "stdout",
          "text": [
            "remote: Enumerating objects: 6, done.\u001b[K\n",
            "remote: Counting objects:  16% (1/6)\u001b[K\rremote: Counting objects:  33% (2/6)\u001b[K\rremote: Counting objects:  50% (3/6)\u001b[K\rremote: Counting objects:  66% (4/6)\u001b[K\rremote: Counting objects:  83% (5/6)\u001b[K\rremote: Counting objects: 100% (6/6)\u001b[K\rremote: Counting objects: 100% (6/6), done.\u001b[K\n",
            "remote: Total 6 (delta 5), reused 6 (delta 5), pack-reused 0\u001b[K\n",
            "Unpacking objects:  16% (1/6)   \rUnpacking objects:  33% (2/6)   \rUnpacking objects:  50% (3/6)   \rUnpacking objects:  66% (4/6)   \rUnpacking objects:  83% (5/6)   \rUnpacking objects: 100% (6/6)   \rUnpacking objects: 100% (6/6), done.\n",
            "From https://github.com/Gkao03/interfacegan\n",
            "   8152fe1..ccc7e98  master     -> origin/master\n",
            "Updating 8152fe1..ccc7e98\n",
            "Fast-forward\n",
            " models/pggan_generator.py          | 4 \u001b[32m++\u001b[m\u001b[31m--\u001b[m\n",
            " models/pggan_tf_official/tfutil.py | 5 \u001b[32m+++\u001b[m\u001b[31m--\u001b[m\n",
            " 2 files changed, 5 insertions(+), 4 deletions(-)\n"
          ]
        }
      ]
    },
    {
      "cell_type": "code",
      "source": [
        "!ls"
      ],
      "metadata": {
        "colab": {
          "base_uri": "https://localhost:8080/"
        },
        "id": "4txKFlFX6luj",
        "outputId": "443007b5-7b65-4130-83c0-3241fc4f8248"
      },
      "execution_count": null,
      "outputs": [
        {
          "output_type": "stream",
          "name": "stdout",
          "text": [
            "boundaries  edit.py\t      LICENSE  README.md\t  utils\n",
            "docs\t    generate_data.py  models   train_boundary.py\n"
          ]
        }
      ]
    },
    {
      "cell_type": "markdown",
      "source": [
        "# Use tf 1.x"
      ],
      "metadata": {
        "id": "m4EcBX4ovntg"
      }
    },
    {
      "cell_type": "code",
      "source": [
        "%tensorflow_version 1.12.2"
      ],
      "metadata": {
        "colab": {
          "base_uri": "https://localhost:8080/"
        },
        "id": "ClcaxBMJvnOJ",
        "outputId": "4836f595-da23-45b9-eef1-379b91fbd71f"
      },
      "execution_count": null,
      "outputs": [
        {
          "output_type": "stream",
          "name": "stdout",
          "text": [
            "`%tensorflow_version` only switches the major version: 1.x or 2.x.\n",
            "You set: `1.12.2`. This will be interpreted as: `1.x`.\n",
            "\n",
            "\n",
            "TensorFlow 1.x selected.\n"
          ]
        }
      ]
    },
    {
      "cell_type": "code",
      "source": [
        "import tensorflow as tf\n",
        "print(tf.__version__)"
      ],
      "metadata": {
        "colab": {
          "base_uri": "https://localhost:8080/"
        },
        "id": "YC_9tPVkvvlv",
        "outputId": "28ed8ada-f81c-427e-837f-4750714aa74b"
      },
      "execution_count": null,
      "outputs": [
        {
          "output_type": "stream",
          "name": "stdout",
          "text": [
            "1.15.2\n"
          ]
        }
      ]
    },
    {
      "cell_type": "markdown",
      "source": [
        "# Prepare Data"
      ],
      "metadata": {
        "id": "R6TmC2gY_rhm"
      }
    },
    {
      "cell_type": "code",
      "source": [
        "!python generate_data.py -m pggan_celebahq -o data/pggan_celebahq -n 10000"
      ],
      "metadata": {
        "colab": {
          "base_uri": "https://localhost:8080/"
        },
        "id": "tvnOZnau_nPg",
        "outputId": "900f821c-df13-46d4-89fc-c23345ea010d"
      },
      "execution_count": null,
      "outputs": [
        {
          "output_type": "stream",
          "name": "stdout",
          "text": [
            "[2022-04-22 02:00:00,573][INFO] Initializing generator.\n",
            "[2022-04-22 02:00:00,794][WARNING] No pre-trained model will be loaded!\n",
            "[2022-04-22 02:00:10,243][INFO] Preparing latent codes.\n",
            "[2022-04-22 02:00:10,243][INFO]   Sample latent codes randomly.\n",
            "[2022-04-22 02:00:10,475][INFO] Generating 10000 samples.\n",
            "[2022-04-22 02:09:33,338][INFO] Saving results.\n"
          ]
        }
      ]
    },
    {
      "cell_type": "code",
      "source": [
        "!ls /content/interfacegan/data/pggan_celebahq"
      ],
      "metadata": {
        "id": "8xiL5rX5FPoo"
      },
      "execution_count": null,
      "outputs": []
    },
    {
      "cell_type": "code",
      "source": [
        "from google.colab import files\n",
        "files.download('/content/interfacegan/data/pggan_celebahq/000000.jpg')"
      ],
      "metadata": {
        "colab": {
          "base_uri": "https://localhost:8080/",
          "height": 17
        },
        "id": "A5Bh9NpVFYtB",
        "outputId": "2e65ac35-e42a-4bad-8e0f-e63a6b105a97"
      },
      "execution_count": null,
      "outputs": [
        {
          "output_type": "display_data",
          "data": {
            "text/plain": [
              "<IPython.core.display.Javascript object>"
            ],
            "application/javascript": [
              "\n",
              "    async function download(id, filename, size) {\n",
              "      if (!google.colab.kernel.accessAllowed) {\n",
              "        return;\n",
              "      }\n",
              "      const div = document.createElement('div');\n",
              "      const label = document.createElement('label');\n",
              "      label.textContent = `Downloading \"${filename}\": `;\n",
              "      div.appendChild(label);\n",
              "      const progress = document.createElement('progress');\n",
              "      progress.max = size;\n",
              "      div.appendChild(progress);\n",
              "      document.body.appendChild(div);\n",
              "\n",
              "      const buffers = [];\n",
              "      let downloaded = 0;\n",
              "\n",
              "      const channel = await google.colab.kernel.comms.open(id);\n",
              "      // Send a message to notify the kernel that we're ready.\n",
              "      channel.send({})\n",
              "\n",
              "      for await (const message of channel.messages) {\n",
              "        // Send a message to notify the kernel that we're ready.\n",
              "        channel.send({})\n",
              "        if (message.buffers) {\n",
              "          for (const buffer of message.buffers) {\n",
              "            buffers.push(buffer);\n",
              "            downloaded += buffer.byteLength;\n",
              "            progress.value = downloaded;\n",
              "          }\n",
              "        }\n",
              "      }\n",
              "      const blob = new Blob(buffers, {type: 'application/binary'});\n",
              "      const a = document.createElement('a');\n",
              "      a.href = window.URL.createObjectURL(blob);\n",
              "      a.download = filename;\n",
              "      div.appendChild(a);\n",
              "      a.click();\n",
              "      div.remove();\n",
              "    }\n",
              "  "
            ]
          },
          "metadata": {}
        },
        {
          "output_type": "display_data",
          "data": {
            "text/plain": [
              "<IPython.core.display.Javascript object>"
            ],
            "application/javascript": [
              "download(\"download_b0cb4a31-ab1b-4c7e-a557-40f8236c53d3\", \"000000.jpg\", 122219)"
            ]
          },
          "metadata": {}
        }
      ]
    },
    {
      "cell_type": "code",
      "source": [
        "import torch\n",
        "use_gpu = True if torch.cuda.is_available() else False\n",
        "\n",
        "# trained on high-quality celebrity faces \"celebA\" dataset\n",
        "# this model outputs 512 x 512 pixel images\n",
        "model = torch.hub.load('facebookresearch/pytorch_GAN_zoo:hub',\n",
        "                       'PGAN', model_name='celebAHQ-512',\n",
        "                       pretrained=True, useGPU=use_gpu)"
      ],
      "metadata": {
        "colab": {
          "base_uri": "https://localhost:8080/",
          "height": 101,
          "referenced_widgets": [
            "1c5aa4e5378f45a8875e4303fab500d3",
            "430312cdada24b8eb515f814737238b3",
            "ac00004ff8d24b38b8a9a38cb2cebb3a",
            "29c86c0e6c7148ad9d6733d2889509f4",
            "69838a03b77d497da863a9bd4d3f425e",
            "d427bc338d2a427a95431ad90f754de1",
            "b20b89f03b4241d095e1a4d060a3c839",
            "78c2e8631acd48519c0d79cf3be0a726",
            "81d0800101124edb8829eb79e34046b9",
            "c4d83ca6617e4133ac361687c0675576",
            "39089f06da63428eb54815328baa219d"
          ]
        },
        "id": "YN9gfkzqAXRh",
        "outputId": "06dc4c8d-5bf8-4ef8-b63e-f4985ae9d853"
      },
      "execution_count": null,
      "outputs": [
        {
          "output_type": "stream",
          "name": "stderr",
          "text": [
            "Downloading: \"https://github.com/facebookresearch/pytorch_GAN_zoo/archive/hub.zip\" to /root/.cache/torch/hub/hub.zip\n",
            "Downloading: \"https://dl.fbaipublicfiles.com/gan_zoo/PGAN/celebaHQ16_december_s7_i96000-9c72988c.pth\" to /root/.cache/torch/hub/checkpoints/celebaHQ16_december_s7_i96000-9c72988c.pth\n"
          ]
        },
        {
          "output_type": "display_data",
          "data": {
            "text/plain": [
              "  0%|          | 0.00/264M [00:00<?, ?B/s]"
            ],
            "application/vnd.jupyter.widget-view+json": {
              "version_major": 2,
              "version_minor": 0,
              "model_id": "1c5aa4e5378f45a8875e4303fab500d3"
            }
          },
          "metadata": {}
        },
        {
          "output_type": "stream",
          "name": "stdout",
          "text": [
            "Average network found !\n"
          ]
        }
      ]
    },
    {
      "cell_type": "code",
      "source": [
        "torch.save(model, '/content/interfacegan/models/pretrain/pggan_celebahq.pth')"
      ],
      "metadata": {
        "id": "P2rB-RPcRYrz"
      },
      "execution_count": null,
      "outputs": []
    },
    {
      "cell_type": "markdown",
      "source": [
        "# remove some files if needed"
      ],
      "metadata": {
        "id": "dlbLx3PDTR97"
      }
    },
    {
      "cell_type": "code",
      "source": [
        "!rm -r /content/interfacegan/results/pggan_celebahq_smile_editing"
      ],
      "metadata": {
        "id": "Q-SabWAFTTsr"
      },
      "execution_count": null,
      "outputs": []
    },
    {
      "cell_type": "code",
      "source": [
        "!rm /content/interfacegan/models/pretrain/karras2018iclr-celebahq-1024x1024.pkl"
      ],
      "metadata": {
        "id": "IvUxlfEg_ATw"
      },
      "execution_count": null,
      "outputs": []
    },
    {
      "cell_type": "markdown",
      "source": [
        "# Run"
      ],
      "metadata": {
        "id": "Sf6XFvuwSLKU"
      }
    },
    {
      "cell_type": "code",
      "source": [
        "!pwd"
      ],
      "metadata": {
        "colab": {
          "base_uri": "https://localhost:8080/"
        },
        "id": "35AzUjNOSh0-",
        "outputId": "cb237293-848b-468a-991e-928846f1c89f"
      },
      "execution_count": null,
      "outputs": [
        {
          "output_type": "stream",
          "name": "stdout",
          "text": [
            "/content/interfacegan\n"
          ]
        }
      ]
    },
    {
      "cell_type": "code",
      "source": [
        "!ls"
      ],
      "metadata": {
        "colab": {
          "base_uri": "https://localhost:8080/"
        },
        "id": "S7sQFqdjSQ9h",
        "outputId": "90560be0-bd6e-4790-9b0e-6fc208cdabde"
      },
      "execution_count": null,
      "outputs": [
        {
          "output_type": "stream",
          "name": "stdout",
          "text": [
            "boundaries  edit.py\t      LICENSE  README.md\t  utils\n",
            "docs\t    generate_data.py  models   train_boundary.py\n"
          ]
        }
      ]
    },
    {
      "cell_type": "code",
      "source": [
        "import tensorflow as tf\n",
        "print(tf.__version__)"
      ],
      "metadata": {
        "colab": {
          "base_uri": "https://localhost:8080/"
        },
        "id": "zAmpLfTbvNfr",
        "outputId": "b80bd8f6-4a6f-4950-94c9-9d13d6d6aaf5"
      },
      "execution_count": null,
      "outputs": [
        {
          "output_type": "stream",
          "name": "stdout",
          "text": [
            "1.15.2\n"
          ]
        }
      ]
    },
    {
      "cell_type": "markdown",
      "source": [
        "## smile"
      ],
      "metadata": {
        "id": "4VQS1n3pNyhc"
      }
    },
    {
      "cell_type": "code",
      "source": [
        "!python edit.py \\\n",
        "    -m pggan_celebahq \\\n",
        "    -b boundaries/pggan_celebahq_smile_boundary.npy \\\n",
        "    -n 10 \\\n",
        "    -o results/pggan_celebahq_smile_editing"
      ],
      "metadata": {
        "colab": {
          "base_uri": "https://localhost:8080/"
        },
        "id": "TpLdsZMJSOlT",
        "outputId": "47fb4a9d-e786-461a-f94c-a794b16daa1a"
      },
      "execution_count": null,
      "outputs": [
        {
          "output_type": "stream",
          "name": "stdout",
          "text": [
            "[2022-05-04 21:44:47,143][INFO] Initializing generator.\n",
            "[2022-05-04 21:44:48,665][INFO] Loading tensorflow model from `models/pretrain/karras2018iclr-celebahq-1024x1024.pkl`.\n",
            "WARNING:tensorflow:From /content/interfacegan/models/pggan_generator.py:49: The name tf.InteractiveSession is deprecated. Please use tf.compat.v1.InteractiveSession instead.\n",
            "\n",
            "WARNING:tensorflow:From models/pggan_tf_official/tfutil.py:471: The name tf.get_default_graph is deprecated. Please use tf.compat.v1.get_default_graph instead.\n",
            "\n",
            "WARNING:tensorflow:From models/pggan_tf_official/tfutil.py:474: The name tf.variable_scope is deprecated. Please use tf.compat.v1.variable_scope instead.\n",
            "\n",
            "WARNING:tensorflow:From models/pggan_tf_official/tfutil.py:474: The name tf.AUTO_REUSE is deprecated. Please use tf.compat.v1.AUTO_REUSE instead.\n",
            "\n",
            "WARNING:tensorflow:From models/pggan_tf_official/tfutil.py:475: The name tf.get_variable_scope is deprecated. Please use tf.compat.v1.get_variable_scope instead.\n",
            "\n",
            "WARNING:tensorflow:From models/pggan_tf_official/tfutil.py:478: The name tf.placeholder is deprecated. Please use tf.compat.v1.placeholder instead.\n",
            "\n",
            "WARNING:tensorflow:From models/pggan_tf_official/tfutil.py:493: The name tf.global_variables is deprecated. Please use tf.compat.v1.global_variables instead.\n",
            "\n",
            "WARNING:tensorflow:From models/pggan_tf_official/tfutil.py:494: The name tf.trainable_variables is deprecated. Please use tf.compat.v1.trainable_variables instead.\n",
            "\n",
            "WARNING:tensorflow:From models/pggan_tf_official/tfutil.py:24: The name tf.get_default_session is deprecated. Please use tf.compat.v1.get_default_session instead.\n",
            "\n",
            "WARNING:tensorflow:From models/pggan_tf_official/tfutil.py:118: The name tf.assign is deprecated. Please use tf.compat.v1.assign instead.\n",
            "\n",
            "[2022-05-04 21:44:54,229][INFO] Successfully loaded!\n",
            "[2022-05-04 21:44:54,230][INFO] Converting tensorflow model to pytorch version.\n",
            "[2022-05-04 21:44:54,307][INFO] Successfully converted!\n",
            "[2022-05-04 21:44:54,307][INFO] Saving pytorch model to `models/pretrain/pggan_celebahq.pth`.\n",
            "[2022-05-04 21:44:54,427][INFO] Successfully saved!\n",
            "[2022-05-04 21:44:54,428][INFO] Loading pytorch model from `models/pretrain/pggan_celebahq.pth`.\n",
            "[2022-05-04 21:44:54,595][INFO] Successfully loaded!\n",
            "[2022-05-04 21:44:54,595][INFO]   `lod` of the loaded model is 0.0.\n",
            "[2022-05-04 21:44:54,595][INFO] Testing conversion results.\n",
            "[2022-05-04 21:45:09,770][INFO] Average distance is 7.255930e-07.\n",
            "[2022-05-04 21:45:09,773][INFO] Preparing boundary.\n",
            "[2022-05-04 21:45:09,774][INFO] Preparing latent codes.\n",
            "[2022-05-04 21:45:09,774][INFO]   Sample latent codes randomly.\n",
            "[2022-05-04 21:45:09,775][INFO] Editing 10 samples.\n",
            "[2022-05-04 21:45:16,834][INFO] Successfully edited 10 samples.\n"
          ]
        }
      ]
    },
    {
      "cell_type": "code",
      "source": [
        "!zip -r /content/smile.zip /content/interfacegan/results/pggan_celebahq_smile_editing"
      ],
      "metadata": {
        "id": "Zbh1-ozQL30F"
      },
      "execution_count": null,
      "outputs": []
    },
    {
      "cell_type": "markdown",
      "source": [
        "## gender"
      ],
      "metadata": {
        "id": "AXgGtuGUNztf"
      }
    },
    {
      "cell_type": "code",
      "source": [
        "!python edit.py \\\n",
        "    -m pggan_celebahq \\\n",
        "    -b boundaries/pggan_celebahq_gender_boundary.npy \\\n",
        "    -n 10 \\\n",
        "    -o results/pggan_celebahq_gender_editing"
      ],
      "metadata": {
        "colab": {
          "base_uri": "https://localhost:8080/"
        },
        "id": "vMV59E05yylt",
        "outputId": "9d8b3a65-8aed-4007-adc6-75bc9813da4e"
      },
      "execution_count": null,
      "outputs": [
        {
          "output_type": "stream",
          "name": "stdout",
          "text": [
            "[2022-04-22 05:43:14,399][INFO] Initializing generator.\n",
            "[2022-04-22 05:43:14,573][INFO] Loading pytorch model from `models/pretrain/pggan_celebahq.pth`.\n",
            "[2022-04-22 05:43:14,784][INFO] Successfully loaded!\n",
            "[2022-04-22 05:43:14,784][INFO]   `lod` of the loaded model is 0.0.\n",
            "[2022-04-22 05:43:17,660][INFO] Preparing boundary.\n",
            "[2022-04-22 05:43:17,661][INFO] Preparing latent codes.\n",
            "[2022-04-22 05:43:17,661][INFO]   Sample latent codes randomly.\n",
            "[2022-04-22 05:43:17,662][INFO] Editing 10 samples.\n",
            "[2022-04-22 05:43:23,538][INFO] Successfully edited 10 samples.\n"
          ]
        }
      ]
    },
    {
      "cell_type": "code",
      "source": [
        "!zip -r /content/gender.zip /content/interfacegan/results/pggan_celebahq_gender_editing"
      ],
      "metadata": {
        "id": "d3REfsSjMeoN"
      },
      "execution_count": null,
      "outputs": []
    },
    {
      "cell_type": "markdown",
      "source": [
        "## age"
      ],
      "metadata": {
        "id": "l1j4oY5tN03h"
      }
    },
    {
      "cell_type": "code",
      "source": [
        "!python edit.py \\\n",
        "    -m pggan_celebahq \\\n",
        "    -b boundaries/pggan_celebahq_age_boundary.npy \\\n",
        "    -n 10 \\\n",
        "    -o results/pggan_celebahq_age_editing"
      ],
      "metadata": {
        "colab": {
          "base_uri": "https://localhost:8080/"
        },
        "id": "-_PQkOKfNMOP",
        "outputId": "15762126-11e4-4018-c19d-3ecdd17a6853"
      },
      "execution_count": null,
      "outputs": [
        {
          "output_type": "stream",
          "name": "stdout",
          "text": [
            "[2022-04-22 07:38:38,536][INFO] Initializing generator.\n",
            "[2022-04-22 07:38:38,729][INFO] Loading pytorch model from `models/pretrain/pggan_celebahq.pth`.\n",
            "[2022-04-22 07:38:38,921][INFO] Successfully loaded!\n",
            "[2022-04-22 07:38:38,922][INFO]   `lod` of the loaded model is 0.0.\n",
            "[2022-04-22 07:38:41,762][INFO] Preparing boundary.\n",
            "[2022-04-22 07:38:41,763][INFO] Preparing latent codes.\n",
            "[2022-04-22 07:38:41,763][INFO]   Sample latent codes randomly.\n",
            "[2022-04-22 07:38:41,764][INFO] Editing 10 samples.\n",
            "[2022-04-22 07:38:47,575][INFO] Successfully edited 10 samples.\n"
          ]
        }
      ]
    },
    {
      "cell_type": "code",
      "source": [
        "!zip -r /content/age.zip /content/interfacegan/results/pggan_celebahq_age_editing"
      ],
      "metadata": {
        "id": "cdwfdsSlNZFo"
      },
      "execution_count": null,
      "outputs": []
    },
    {
      "cell_type": "markdown",
      "source": [
        "## pose"
      ],
      "metadata": {
        "id": "QKaUTCh-N18Y"
      }
    },
    {
      "cell_type": "code",
      "source": [
        "!python edit.py \\\n",
        "    -m pggan_celebahq \\\n",
        "    -b boundaries/pggan_celebahq_pose_boundary.npy \\\n",
        "    -n 10 \\\n",
        "    -o results/pggan_celebahq_pose_editing"
      ],
      "metadata": {
        "colab": {
          "base_uri": "https://localhost:8080/"
        },
        "id": "Ngnn9UFpNxKm",
        "outputId": "33c6ccdd-416a-4c0c-a6d7-9c96237316f7"
      },
      "execution_count": null,
      "outputs": [
        {
          "output_type": "stream",
          "name": "stdout",
          "text": [
            "[2022-04-22 07:41:20,905][INFO] Initializing generator.\n",
            "[2022-04-22 07:41:21,078][INFO] Loading pytorch model from `models/pretrain/pggan_celebahq.pth`.\n",
            "[2022-04-22 07:41:21,277][INFO] Successfully loaded!\n",
            "[2022-04-22 07:41:21,278][INFO]   `lod` of the loaded model is 0.0.\n",
            "[2022-04-22 07:41:24,114][INFO] Preparing boundary.\n",
            "[2022-04-22 07:41:24,115][INFO] Preparing latent codes.\n",
            "[2022-04-22 07:41:24,115][INFO]   Sample latent codes randomly.\n",
            "[2022-04-22 07:41:24,116][INFO] Editing 10 samples.\n",
            "[2022-04-22 07:41:29,923][INFO] Successfully edited 10 samples.\n"
          ]
        }
      ]
    },
    {
      "cell_type": "code",
      "source": [
        "!zip -r /content/pose.zip /content/interfacegan/results/pggan_celebahq_pose_editing"
      ],
      "metadata": {
        "id": "hV1kHLFxN7i8"
      },
      "execution_count": null,
      "outputs": []
    },
    {
      "cell_type": "markdown",
      "source": [
        "## glasses"
      ],
      "metadata": {
        "id": "pNP3cloIN-aq"
      }
    },
    {
      "cell_type": "code",
      "source": [
        "!python edit.py \\\n",
        "    -m pggan_celebahq \\\n",
        "    -b boundaries/pggan_celebahq_eyeglasses_boundary.npy \\\n",
        "    -n 10 \\\n",
        "    -o results/pggan_celebahq_glasses_editing"
      ],
      "metadata": {
        "colab": {
          "base_uri": "https://localhost:8080/"
        },
        "id": "JJN9V614ODBg",
        "outputId": "e3caf483-1baa-4d6d-d74c-40c241ecfcb5"
      },
      "execution_count": null,
      "outputs": [
        {
          "output_type": "stream",
          "name": "stdout",
          "text": [
            "[2022-04-22 07:42:28,590][INFO] Initializing generator.\n",
            "[2022-04-22 07:42:28,762][INFO] Loading pytorch model from `models/pretrain/pggan_celebahq.pth`.\n",
            "[2022-04-22 07:42:28,970][INFO] Successfully loaded!\n",
            "[2022-04-22 07:42:28,971][INFO]   `lod` of the loaded model is 0.0.\n",
            "[2022-04-22 07:42:31,767][INFO] Preparing boundary.\n",
            "[2022-04-22 07:42:31,768][INFO] Preparing latent codes.\n",
            "[2022-04-22 07:42:31,768][INFO]   Sample latent codes randomly.\n",
            "[2022-04-22 07:42:31,769][INFO] Editing 10 samples.\n",
            "[2022-04-22 07:42:37,582][INFO] Successfully edited 10 samples.\n"
          ]
        }
      ]
    },
    {
      "cell_type": "code",
      "source": [
        "!zip -r /content/glasses.zip /content/interfacegan/results/pggan_celebahq_glasses_editing"
      ],
      "metadata": {
        "id": "jZzx2oEDOKe0"
      },
      "execution_count": null,
      "outputs": []
    },
    {
      "cell_type": "markdown",
      "source": [
        "## age conditioned on gender"
      ],
      "metadata": {
        "id": "5nAkwUkPgYzP"
      }
    },
    {
      "cell_type": "code",
      "source": [
        "!python edit.py \\\n",
        "    -m pggan_celebahq \\\n",
        "    -b boundaries/pggan_celebahq_age_c_gender_boundary.npy \\\n",
        "    -n 10 \\\n",
        "    -o results/pggan_celebahq_age_c_gender_editing"
      ],
      "metadata": {
        "colab": {
          "base_uri": "https://localhost:8080/"
        },
        "id": "uKwSpLcwgaSw",
        "outputId": "042d35fe-e293-4ed8-e158-acbe1c57eea4"
      },
      "execution_count": null,
      "outputs": [
        {
          "output_type": "stream",
          "name": "stdout",
          "text": [
            "[2022-04-22 09:02:24,312][INFO] Initializing generator.\n",
            "[2022-04-22 09:02:24,492][INFO] Loading pytorch model from `models/pretrain/pggan_celebahq.pth`.\n",
            "[2022-04-22 09:02:24,699][INFO] Successfully loaded!\n",
            "[2022-04-22 09:02:24,699][INFO]   `lod` of the loaded model is 0.0.\n",
            "[2022-04-22 09:02:27,597][INFO] Preparing boundary.\n",
            "[2022-04-22 09:02:27,598][INFO] Preparing latent codes.\n",
            "[2022-04-22 09:02:27,598][INFO]   Sample latent codes randomly.\n",
            "[2022-04-22 09:02:27,599][INFO] Editing 10 samples.\n",
            "[2022-04-22 09:02:33,405][INFO] Successfully edited 10 samples.\n"
          ]
        }
      ]
    },
    {
      "cell_type": "code",
      "source": [
        "!zip -r /content/age_c_gender.zip /content/interfacegan/results/pggan_celebahq_age_c_gender_editing"
      ],
      "metadata": {
        "id": "HPbReIOpgrDs"
      },
      "execution_count": null,
      "outputs": []
    },
    {
      "cell_type": "markdown",
      "source": [
        "# Generate Data Samples (interfaceGAN)"
      ],
      "metadata": {
        "id": "CTucAa0uDsCY"
      }
    },
    {
      "cell_type": "code",
      "source": [
        "!rm -r /content/interfacegan/data/pggan_celebahq"
      ],
      "metadata": {
        "id": "3QMAyPlEOUln"
      },
      "execution_count": null,
      "outputs": []
    },
    {
      "cell_type": "code",
      "source": [
        "!python generate_data.py -m pggan_celebahq -o data/pggan_celebahq -n 10000"
      ],
      "metadata": {
        "colab": {
          "base_uri": "https://localhost:8080/"
        },
        "id": "-eIpGeoAD1L1",
        "outputId": "80d47ebe-9127-4ee5-c17e-3cb08278e64b"
      },
      "execution_count": null,
      "outputs": [
        {
          "output_type": "stream",
          "name": "stdout",
          "text": [
            "[2022-05-05 04:30:31,533][INFO] Initializing generator.\n",
            "[2022-05-05 04:30:31,709][INFO] Loading pytorch model from `models/pretrain/pggan_celebahq.pth`.\n",
            "[2022-05-05 04:30:31,917][INFO] Successfully loaded!\n",
            "[2022-05-05 04:30:31,917][INFO]   `lod` of the loaded model is 0.0.\n",
            "[2022-05-05 04:30:35,841][INFO] Preparing latent codes.\n",
            "[2022-05-05 04:30:35,841][INFO]   Sample latent codes randomly.\n",
            "[2022-05-05 04:30:36,056][INFO] Generating 10000 samples.\n",
            "[2022-05-05 04:42:41,573][INFO] Saving results.\n"
          ]
        }
      ]
    },
    {
      "cell_type": "markdown",
      "source": [
        "download latents (if needed later)"
      ],
      "metadata": {
        "id": "7Wg9PAyuHaq_"
      }
    },
    {
      "cell_type": "code",
      "source": [
        "from google.colab import files\n",
        "files.download('/content/interfacegan/data/pggan_celebahq/z.npy')"
      ],
      "metadata": {
        "colab": {
          "base_uri": "https://localhost:8080/",
          "height": 17
        },
        "id": "Jud22wEzHecB",
        "outputId": "0909e93b-57c5-4203-cc23-4be3a7dda46b"
      },
      "execution_count": null,
      "outputs": [
        {
          "output_type": "display_data",
          "data": {
            "text/plain": [
              "<IPython.core.display.Javascript object>"
            ],
            "application/javascript": [
              "\n",
              "    async function download(id, filename, size) {\n",
              "      if (!google.colab.kernel.accessAllowed) {\n",
              "        return;\n",
              "      }\n",
              "      const div = document.createElement('div');\n",
              "      const label = document.createElement('label');\n",
              "      label.textContent = `Downloading \"${filename}\": `;\n",
              "      div.appendChild(label);\n",
              "      const progress = document.createElement('progress');\n",
              "      progress.max = size;\n",
              "      div.appendChild(progress);\n",
              "      document.body.appendChild(div);\n",
              "\n",
              "      const buffers = [];\n",
              "      let downloaded = 0;\n",
              "\n",
              "      const channel = await google.colab.kernel.comms.open(id);\n",
              "      // Send a message to notify the kernel that we're ready.\n",
              "      channel.send({})\n",
              "\n",
              "      for await (const message of channel.messages) {\n",
              "        // Send a message to notify the kernel that we're ready.\n",
              "        channel.send({})\n",
              "        if (message.buffers) {\n",
              "          for (const buffer of message.buffers) {\n",
              "            buffers.push(buffer);\n",
              "            downloaded += buffer.byteLength;\n",
              "            progress.value = downloaded;\n",
              "          }\n",
              "        }\n",
              "      }\n",
              "      const blob = new Blob(buffers, {type: 'application/binary'});\n",
              "      const a = document.createElement('a');\n",
              "      a.href = window.URL.createObjectURL(blob);\n",
              "      a.download = filename;\n",
              "      div.appendChild(a);\n",
              "      a.click();\n",
              "      div.remove();\n",
              "    }\n",
              "  "
            ]
          },
          "metadata": {}
        },
        {
          "output_type": "display_data",
          "data": {
            "text/plain": [
              "<IPython.core.display.Javascript object>"
            ],
            "application/javascript": [
              "download(\"download_9745497a-134f-4166-a70b-4f4babf9174b\", \"z.npy\", 20480128)"
            ]
          },
          "metadata": {}
        }
      ]
    },
    {
      "cell_type": "markdown",
      "source": [
        "read in latents"
      ],
      "metadata": {
        "id": "JiEjxNHWH0n3"
      }
    },
    {
      "cell_type": "code",
      "source": [
        "import numpy as np\n",
        "\n",
        "latents = np.load(\"/content/interfacegan/data/pggan_celebahq/z.npy\")"
      ],
      "metadata": {
        "id": "WS1w-emtH2AR"
      },
      "execution_count": null,
      "outputs": []
    },
    {
      "cell_type": "code",
      "source": [
        "print(latents.shape)"
      ],
      "metadata": {
        "colab": {
          "base_uri": "https://localhost:8080/"
        },
        "id": "WZ3svruRH_iG",
        "outputId": "3da5d3c7-59c0-41eb-9651-1cc2eef6bc68"
      },
      "execution_count": null,
      "outputs": [
        {
          "output_type": "stream",
          "name": "stdout",
          "text": [
            "(10000, 512)\n"
          ]
        }
      ]
    },
    {
      "cell_type": "markdown",
      "source": [
        "# Try some ML methods"
      ],
      "metadata": {
        "id": "rBHkgls_IIJF"
      }
    },
    {
      "cell_type": "markdown",
      "source": [
        "### PCA"
      ],
      "metadata": {
        "id": "kZ7S_zQ3O8Op"
      }
    },
    {
      "cell_type": "code",
      "source": [
        "from sklearn.decomposition import PCA"
      ],
      "metadata": {
        "id": "tG2kBEdjIHst"
      },
      "execution_count": null,
      "outputs": []
    },
    {
      "cell_type": "code",
      "source": [
        "pca = PCA(n_components=5)  # n_components=None means dimension is inferred"
      ],
      "metadata": {
        "id": "h8HcAsxKITMy"
      },
      "execution_count": null,
      "outputs": []
    },
    {
      "cell_type": "code",
      "source": [
        "# fit\n",
        "pca.fit(latents)"
      ],
      "metadata": {
        "colab": {
          "base_uri": "https://localhost:8080/"
        },
        "id": "YT4QVqgKLN2N",
        "outputId": "7fec0c38-15e8-4476-a7ac-178e2d687bb7"
      },
      "execution_count": null,
      "outputs": [
        {
          "output_type": "execute_result",
          "data": {
            "text/plain": [
              "PCA(n_components=5)"
            ]
          },
          "metadata": {},
          "execution_count": 159
        }
      ]
    },
    {
      "cell_type": "code",
      "source": [
        "print(len(pca.components_))\n",
        "print(len(pca.components_[0]))\n",
        "print(np.linalg.norm(pca.components_[0]))"
      ],
      "metadata": {
        "colab": {
          "base_uri": "https://localhost:8080/"
        },
        "id": "EBc-R8enLh_R",
        "outputId": "f9576a13-649b-4ac2-faaf-1151a292496d"
      },
      "execution_count": null,
      "outputs": [
        {
          "output_type": "stream",
          "name": "stdout",
          "text": [
            "5\n",
            "512\n",
            "0.9999996\n"
          ]
        }
      ]
    },
    {
      "cell_type": "code",
      "source": [
        "def normalize_vector(vec):  # vec should be np array (vector)\n",
        "    return vec / np.linalg.norm(vec)"
      ],
      "metadata": {
        "id": "newHiKTvsDqy"
      },
      "execution_count": null,
      "outputs": []
    },
    {
      "cell_type": "markdown",
      "source": [
        "### KPCA"
      ],
      "metadata": {
        "id": "m1MdU5V-O93Z"
      }
    },
    {
      "cell_type": "code",
      "source": [
        "from sklearn.decomposition import KernelPCA\n",
        "\n",
        "kpca = KernelPCA(n_components=512, fit_inverse_transform=True)"
      ],
      "metadata": {
        "id": "7JLENAx_PCyb"
      },
      "execution_count": null,
      "outputs": []
    },
    {
      "cell_type": "code",
      "source": [
        "kpca.fit(latents)"
      ],
      "metadata": {
        "colab": {
          "base_uri": "https://localhost:8080/"
        },
        "id": "0jAFBV8pTlBD",
        "outputId": "b5610455-a476-4d19-c1a8-3fc86cc8244a"
      },
      "execution_count": null,
      "outputs": [
        {
          "output_type": "execute_result",
          "data": {
            "text/plain": [
              "KernelPCA(fit_inverse_transform=True, n_components=512)"
            ]
          },
          "metadata": {},
          "execution_count": 118
        }
      ]
    },
    {
      "cell_type": "code",
      "source": [
        "print(kpca.X_transformed_fit_.shape)"
      ],
      "metadata": {
        "colab": {
          "base_uri": "https://localhost:8080/"
        },
        "id": "S6gbf0mcTp1s",
        "outputId": "49413475-b4c6-4b74-a7ae-85f2ed137946"
      },
      "execution_count": null,
      "outputs": [
        {
          "output_type": "stream",
          "name": "stdout",
          "text": [
            "(10000, 512)\n"
          ]
        }
      ]
    },
    {
      "cell_type": "code",
      "source": [
        "pca = PCA(n_components=5)\n",
        "pca.fit(latents)"
      ],
      "metadata": {
        "colab": {
          "base_uri": "https://localhost:8080/"
        },
        "id": "OQt15PVyU3G5",
        "outputId": "2c1e4baf-ab5b-4819-db0d-5df4bc6c41d8"
      },
      "execution_count": null,
      "outputs": [
        {
          "output_type": "execute_result",
          "data": {
            "text/plain": [
              "PCA(n_components=5)"
            ]
          },
          "metadata": {},
          "execution_count": 120
        }
      ]
    },
    {
      "cell_type": "markdown",
      "source": [
        "### ICA"
      ],
      "metadata": {
        "id": "QGE-QqtjO_B8"
      }
    },
    {
      "cell_type": "code",
      "source": [
        "from sklearn.decomposition import FastICA\n",
        "\n",
        "ica = FastICA(n_components=5)"
      ],
      "metadata": {
        "id": "_O337f2oVOpA"
      },
      "execution_count": null,
      "outputs": []
    },
    {
      "cell_type": "code",
      "source": [
        "ica.fit(latents)"
      ],
      "metadata": {
        "colab": {
          "base_uri": "https://localhost:8080/"
        },
        "id": "olezRRHQVclb",
        "outputId": "c01d96c0-2f3c-4c10-b15e-062fb342b36e"
      },
      "execution_count": null,
      "outputs": [
        {
          "output_type": "stream",
          "name": "stderr",
          "text": [
            "/usr/local/lib/python3.7/dist-packages/sklearn/decomposition/_fastica.py:119: ConvergenceWarning: FastICA did not converge. Consider increasing tolerance or the maximum number of iterations.\n",
            "  ConvergenceWarning,\n"
          ]
        },
        {
          "output_type": "execute_result",
          "data": {
            "text/plain": [
              "FastICA(n_components=5)"
            ]
          },
          "metadata": {},
          "execution_count": 128
        }
      ]
    },
    {
      "cell_type": "code",
      "source": [
        "print(len(ica.components_))\n",
        "print(len(ica.components_[0]))\n",
        "print(np.linalg.norm(ica.components_[0]))"
      ],
      "metadata": {
        "colab": {
          "base_uri": "https://localhost:8080/"
        },
        "id": "UAjl-zrCVg8O",
        "outputId": "f538541d-44a2-47b3-9358-62ec5993ccff"
      },
      "execution_count": null,
      "outputs": [
        {
          "output_type": "stream",
          "name": "stdout",
          "text": [
            "5\n",
            "512\n",
            "0.00823138105819398\n"
          ]
        }
      ]
    },
    {
      "cell_type": "markdown",
      "source": [
        "# generate latent codes in a given direction"
      ],
      "metadata": {
        "id": "vIMiADd5k4SO"
      }
    },
    {
      "cell_type": "code",
      "source": [
        "!ls"
      ],
      "metadata": {
        "colab": {
          "base_uri": "https://localhost:8080/"
        },
        "id": "mClRSUsnk7Ki",
        "outputId": "18076478-5e47-4b82-c7f5-00cf0aee1dcb"
      },
      "execution_count": null,
      "outputs": [
        {
          "output_type": "stream",
          "name": "stdout",
          "text": [
            "boundaries  docs     generate_data.py  models\t  results\t     utils\n",
            "data\t    edit.py  LICENSE\t       README.md  train_boundary.py\n"
          ]
        }
      ]
    },
    {
      "cell_type": "code",
      "source": [
        "from utils.manipulator import *"
      ],
      "metadata": {
        "id": "tcExknjqk9ZH"
      },
      "execution_count": null,
      "outputs": []
    },
    {
      "cell_type": "code",
      "source": [
        "fixed_latent = np.random.randn(1, 512).astype(np.float32)\n",
        "np.save(\"/content/fixedz.npy\", fixed_latent)"
      ],
      "metadata": {
        "id": "wBLQfVvKk_Sp"
      },
      "execution_count": null,
      "outputs": []
    },
    {
      "cell_type": "markdown",
      "source": [
        "save image of fixed latent"
      ],
      "metadata": {
        "id": "Rk1ga_SX6YDc"
      }
    },
    {
      "cell_type": "code",
      "source": [
        "!rm -r /content/fixed"
      ],
      "metadata": {
        "id": "-jSdVh1mRrSj"
      },
      "execution_count": null,
      "outputs": []
    },
    {
      "cell_type": "code",
      "source": [
        "!python generate_data.py -m pggan_celebahq -i \"/content/fixedz.npy\" -o \"/content/fixed\""
      ],
      "metadata": {
        "colab": {
          "base_uri": "https://localhost:8080/"
        },
        "id": "i6R6W5y46Xcp",
        "outputId": "65ca16f7-08d5-43b2-ba74-48b0c4b15c22"
      },
      "execution_count": null,
      "outputs": [
        {
          "output_type": "stream",
          "name": "stdout",
          "text": [
            "[2022-05-05 04:44:43,334][INFO] Initializing generator.\n",
            "[2022-05-05 04:44:43,511][INFO] Loading pytorch model from `models/pretrain/pggan_celebahq.pth`.\n",
            "[2022-05-05 04:44:43,732][INFO] Successfully loaded!\n",
            "[2022-05-05 04:44:43,732][INFO]   `lod` of the loaded model is 0.0.\n",
            "[2022-05-05 04:44:47,605][INFO] Preparing latent codes.\n",
            "[2022-05-05 04:44:47,605][INFO]   Load latent codes from `/content/fixedz.npy`.\n",
            "[2022-05-05 04:44:47,606][INFO] Generating 1 samples.\n",
            "[2022-05-05 04:44:47,744][INFO] Saving results.\n"
          ]
        }
      ]
    },
    {
      "cell_type": "markdown",
      "source": [
        "create interpolations"
      ],
      "metadata": {
        "id": "HzBRggRI6aUA"
      }
    },
    {
      "cell_type": "code",
      "source": [
        "interps = []\n",
        "\n",
        "# kpca/pca\n",
        "for component in pca.components_:\n",
        "    boundary = normalize_vector(np.array(component, ndmin=2))\n",
        "    assert boundary.shape == (1, 512), f\"boundary shape should be (1, 512), found {boundary.shape}\"\n",
        "    interp = linear_interpolate(fixed_latent, boundary, start_distance=-7.0, end_distance=7.0, steps=20)\n",
        "    interps.append(interp)"
      ],
      "metadata": {
        "id": "A_DC3avqr40H"
      },
      "execution_count": null,
      "outputs": []
    },
    {
      "cell_type": "code",
      "source": [
        "interps = []\n",
        "\n",
        "# ica\n",
        "for component in ica.components_:\n",
        "    boundary = normalize_vector(np.array(component, ndmin=2))\n",
        "    assert boundary.shape == (1, 512), f\"boundary shape should be (1, 512), found {boundary.shape}\"\n",
        "    interp = linear_interpolate(fixed_latent, boundary, start_distance=-7.0, end_distance=7.0, steps=20)\n",
        "    interps.append(interp)"
      ],
      "metadata": {
        "id": "dHt9aN8kZQEf"
      },
      "execution_count": null,
      "outputs": []
    },
    {
      "cell_type": "code",
      "source": [
        "for i, nparray in enumerate(interps):\n",
        "    np.save(f\"/content/z{i}.npy\", nparray)"
      ],
      "metadata": {
        "id": "o5aFCQ1nzfLW"
      },
      "execution_count": null,
      "outputs": []
    },
    {
      "cell_type": "markdown",
      "source": [
        "# generate images from latent interpolations"
      ],
      "metadata": {
        "id": "022EHX7e1GQC"
      }
    },
    {
      "cell_type": "markdown",
      "source": [
        "remove some outputs if needed"
      ],
      "metadata": {
        "id": "Lw1KyaeI419M"
      }
    },
    {
      "cell_type": "code",
      "source": [
        "import subprocess\n",
        "\n",
        "for i in range(len(pca.components_)):\n",
        "    subprocess.run([\"rm\", \"-r\", f\"/content/out{i}\"])"
      ],
      "metadata": {
        "id": "Lfj_VR6B41Nj"
      },
      "execution_count": null,
      "outputs": []
    },
    {
      "cell_type": "markdown",
      "source": [
        "generate"
      ],
      "metadata": {
        "id": "ixqzVohf43ke"
      }
    },
    {
      "cell_type": "code",
      "source": [
        "import subprocess\n",
        "\n",
        "for i in range(len(pca.components_)):\n",
        "    subprocess.run([\"python\", \"generate_data.py\", \"-m\", \"pggan_celebahq\", \"-i\", f\"/content/z{i}.npy\", \"-o\", f\"/content/out{i}\"])"
      ],
      "metadata": {
        "id": "dseoXyyP00Jm"
      },
      "execution_count": null,
      "outputs": []
    },
    {
      "cell_type": "markdown",
      "source": [
        "# download folders"
      ],
      "metadata": {
        "id": "49DfYqvH9VwR"
      }
    },
    {
      "cell_type": "code",
      "source": [
        "!zip -r /content/out0.zip /content/out0"
      ],
      "metadata": {
        "colab": {
          "base_uri": "https://localhost:8080/"
        },
        "id": "UxRjIggGS0zS",
        "outputId": "1b0f105b-0dd9-4fc8-cc5c-a875b9c88e48"
      },
      "execution_count": null,
      "outputs": [
        {
          "output_type": "stream",
          "name": "stdout",
          "text": [
            "  adding: content/out0/ (stored 0%)\n",
            "  adding: content/out0/000003.jpg (deflated 0%)\n",
            "  adding: content/out0/000005.jpg (deflated 0%)\n",
            "  adding: content/out0/000013.jpg (deflated 0%)\n",
            "  adding: content/out0/000012.jpg (deflated 0%)\n",
            "  adding: content/out0/000008.jpg (deflated 0%)\n",
            "  adding: content/out0/000000.jpg (deflated 0%)\n",
            "  adding: content/out0/000002.jpg (deflated 0%)\n",
            "  adding: content/out0/000018.jpg (deflated 0%)\n",
            "  adding: content/out0/000001.jpg (deflated 0%)\n",
            "  adding: content/out0/000006.jpg (deflated 0%)\n",
            "  adding: content/out0/000007.jpg (deflated 0%)\n",
            "  adding: content/out0/000004.jpg (deflated 0%)\n",
            "  adding: content/out0/000016.jpg (deflated 0%)\n",
            "  adding: content/out0/000015.jpg (deflated 0%)\n",
            "  adding: content/out0/000011.jpg (deflated 0%)\n",
            "  adding: content/out0/000010.jpg (deflated 0%)\n",
            "  adding: content/out0/log.txt (deflated 54%)\n",
            "  adding: content/out0/000017.jpg (deflated 0%)\n",
            "  adding: content/out0/000009.jpg (deflated 0%)\n",
            "  adding: content/out0/000019.jpg (deflated 0%)\n",
            "  adding: content/out0/z.npy (deflated 8%)\n",
            "  adding: content/out0/000014.jpg (deflated 0%)\n"
          ]
        }
      ]
    },
    {
      "cell_type": "code",
      "source": [
        "from google.colab import files\n",
        "files.download(\"/content/out0.zip\")"
      ],
      "metadata": {
        "colab": {
          "base_uri": "https://localhost:8080/",
          "height": 17
        },
        "id": "wnqEOjjXS-7G",
        "outputId": "39e2c624-fb43-41be-fdbf-c3354e87dfa9"
      },
      "execution_count": null,
      "outputs": [
        {
          "output_type": "display_data",
          "data": {
            "text/plain": [
              "<IPython.core.display.Javascript object>"
            ],
            "application/javascript": [
              "\n",
              "    async function download(id, filename, size) {\n",
              "      if (!google.colab.kernel.accessAllowed) {\n",
              "        return;\n",
              "      }\n",
              "      const div = document.createElement('div');\n",
              "      const label = document.createElement('label');\n",
              "      label.textContent = `Downloading \"${filename}\": `;\n",
              "      div.appendChild(label);\n",
              "      const progress = document.createElement('progress');\n",
              "      progress.max = size;\n",
              "      div.appendChild(progress);\n",
              "      document.body.appendChild(div);\n",
              "\n",
              "      const buffers = [];\n",
              "      let downloaded = 0;\n",
              "\n",
              "      const channel = await google.colab.kernel.comms.open(id);\n",
              "      // Send a message to notify the kernel that we're ready.\n",
              "      channel.send({})\n",
              "\n",
              "      for await (const message of channel.messages) {\n",
              "        // Send a message to notify the kernel that we're ready.\n",
              "        channel.send({})\n",
              "        if (message.buffers) {\n",
              "          for (const buffer of message.buffers) {\n",
              "            buffers.push(buffer);\n",
              "            downloaded += buffer.byteLength;\n",
              "            progress.value = downloaded;\n",
              "          }\n",
              "        }\n",
              "      }\n",
              "      const blob = new Blob(buffers, {type: 'application/binary'});\n",
              "      const a = document.createElement('a');\n",
              "      a.href = window.URL.createObjectURL(blob);\n",
              "      a.download = filename;\n",
              "      div.appendChild(a);\n",
              "      a.click();\n",
              "      div.remove();\n",
              "    }\n",
              "  "
            ]
          },
          "metadata": {}
        },
        {
          "output_type": "display_data",
          "data": {
            "text/plain": [
              "<IPython.core.display.Javascript object>"
            ],
            "application/javascript": [
              "download(\"download_11f91b10-17a8-43d8-b0cb-57be4506f8a4\", \"out0.zip\", 5958615)"
            ]
          },
          "metadata": {}
        }
      ]
    },
    {
      "cell_type": "code",
      "source": [
        "import subprocess\n",
        "\n",
        "for i in range(len(pca.components_)):\n",
        "    subprocess.run([\"zip\", \"-r\", f\"/content/out{i}.zip\", f\"/content/out{i}\"])"
      ],
      "metadata": {
        "id": "teWhfE6pJTt6"
      },
      "execution_count": null,
      "outputs": []
    },
    {
      "cell_type": "code",
      "source": [
        "from google.colab import files\n",
        "\n",
        "for i in range(len(pca.components_)):\n",
        "    files.download(f'/content/out{i}.zip')"
      ],
      "metadata": {
        "colab": {
          "base_uri": "https://localhost:8080/",
          "height": 17
        },
        "id": "jZaQGmbPKtyq",
        "outputId": "46908166-3321-4456-edfe-5ee35d378714"
      },
      "execution_count": null,
      "outputs": [
        {
          "output_type": "display_data",
          "data": {
            "text/plain": [
              "<IPython.core.display.Javascript object>"
            ],
            "application/javascript": [
              "\n",
              "    async function download(id, filename, size) {\n",
              "      if (!google.colab.kernel.accessAllowed) {\n",
              "        return;\n",
              "      }\n",
              "      const div = document.createElement('div');\n",
              "      const label = document.createElement('label');\n",
              "      label.textContent = `Downloading \"${filename}\": `;\n",
              "      div.appendChild(label);\n",
              "      const progress = document.createElement('progress');\n",
              "      progress.max = size;\n",
              "      div.appendChild(progress);\n",
              "      document.body.appendChild(div);\n",
              "\n",
              "      const buffers = [];\n",
              "      let downloaded = 0;\n",
              "\n",
              "      const channel = await google.colab.kernel.comms.open(id);\n",
              "      // Send a message to notify the kernel that we're ready.\n",
              "      channel.send({})\n",
              "\n",
              "      for await (const message of channel.messages) {\n",
              "        // Send a message to notify the kernel that we're ready.\n",
              "        channel.send({})\n",
              "        if (message.buffers) {\n",
              "          for (const buffer of message.buffers) {\n",
              "            buffers.push(buffer);\n",
              "            downloaded += buffer.byteLength;\n",
              "            progress.value = downloaded;\n",
              "          }\n",
              "        }\n",
              "      }\n",
              "      const blob = new Blob(buffers, {type: 'application/binary'});\n",
              "      const a = document.createElement('a');\n",
              "      a.href = window.URL.createObjectURL(blob);\n",
              "      a.download = filename;\n",
              "      div.appendChild(a);\n",
              "      a.click();\n",
              "      div.remove();\n",
              "    }\n",
              "  "
            ]
          },
          "metadata": {}
        },
        {
          "output_type": "display_data",
          "data": {
            "text/plain": [
              "<IPython.core.display.Javascript object>"
            ],
            "application/javascript": [
              "download(\"download_bd3336eb-a9aa-4134-8988-a74ad265086b\", \"out0.zip\", 6550493)"
            ]
          },
          "metadata": {}
        },
        {
          "output_type": "display_data",
          "data": {
            "text/plain": [
              "<IPython.core.display.Javascript object>"
            ],
            "application/javascript": [
              "\n",
              "    async function download(id, filename, size) {\n",
              "      if (!google.colab.kernel.accessAllowed) {\n",
              "        return;\n",
              "      }\n",
              "      const div = document.createElement('div');\n",
              "      const label = document.createElement('label');\n",
              "      label.textContent = `Downloading \"${filename}\": `;\n",
              "      div.appendChild(label);\n",
              "      const progress = document.createElement('progress');\n",
              "      progress.max = size;\n",
              "      div.appendChild(progress);\n",
              "      document.body.appendChild(div);\n",
              "\n",
              "      const buffers = [];\n",
              "      let downloaded = 0;\n",
              "\n",
              "      const channel = await google.colab.kernel.comms.open(id);\n",
              "      // Send a message to notify the kernel that we're ready.\n",
              "      channel.send({})\n",
              "\n",
              "      for await (const message of channel.messages) {\n",
              "        // Send a message to notify the kernel that we're ready.\n",
              "        channel.send({})\n",
              "        if (message.buffers) {\n",
              "          for (const buffer of message.buffers) {\n",
              "            buffers.push(buffer);\n",
              "            downloaded += buffer.byteLength;\n",
              "            progress.value = downloaded;\n",
              "          }\n",
              "        }\n",
              "      }\n",
              "      const blob = new Blob(buffers, {type: 'application/binary'});\n",
              "      const a = document.createElement('a');\n",
              "      a.href = window.URL.createObjectURL(blob);\n",
              "      a.download = filename;\n",
              "      div.appendChild(a);\n",
              "      a.click();\n",
              "      div.remove();\n",
              "    }\n",
              "  "
            ]
          },
          "metadata": {}
        },
        {
          "output_type": "display_data",
          "data": {
            "text/plain": [
              "<IPython.core.display.Javascript object>"
            ],
            "application/javascript": [
              "download(\"download_59f02ba7-bed3-464b-a188-580a0c7cb201\", \"out1.zip\", 6500605)"
            ]
          },
          "metadata": {}
        },
        {
          "output_type": "display_data",
          "data": {
            "text/plain": [
              "<IPython.core.display.Javascript object>"
            ],
            "application/javascript": [
              "\n",
              "    async function download(id, filename, size) {\n",
              "      if (!google.colab.kernel.accessAllowed) {\n",
              "        return;\n",
              "      }\n",
              "      const div = document.createElement('div');\n",
              "      const label = document.createElement('label');\n",
              "      label.textContent = `Downloading \"${filename}\": `;\n",
              "      div.appendChild(label);\n",
              "      const progress = document.createElement('progress');\n",
              "      progress.max = size;\n",
              "      div.appendChild(progress);\n",
              "      document.body.appendChild(div);\n",
              "\n",
              "      const buffers = [];\n",
              "      let downloaded = 0;\n",
              "\n",
              "      const channel = await google.colab.kernel.comms.open(id);\n",
              "      // Send a message to notify the kernel that we're ready.\n",
              "      channel.send({})\n",
              "\n",
              "      for await (const message of channel.messages) {\n",
              "        // Send a message to notify the kernel that we're ready.\n",
              "        channel.send({})\n",
              "        if (message.buffers) {\n",
              "          for (const buffer of message.buffers) {\n",
              "            buffers.push(buffer);\n",
              "            downloaded += buffer.byteLength;\n",
              "            progress.value = downloaded;\n",
              "          }\n",
              "        }\n",
              "      }\n",
              "      const blob = new Blob(buffers, {type: 'application/binary'});\n",
              "      const a = document.createElement('a');\n",
              "      a.href = window.URL.createObjectURL(blob);\n",
              "      a.download = filename;\n",
              "      div.appendChild(a);\n",
              "      a.click();\n",
              "      div.remove();\n",
              "    }\n",
              "  "
            ]
          },
          "metadata": {}
        },
        {
          "output_type": "display_data",
          "data": {
            "text/plain": [
              "<IPython.core.display.Javascript object>"
            ],
            "application/javascript": [
              "download(\"download_ee37506f-4eb2-4b1a-9c72-528ad9e6c7e7\", \"out2.zip\", 6644777)"
            ]
          },
          "metadata": {}
        },
        {
          "output_type": "display_data",
          "data": {
            "text/plain": [
              "<IPython.core.display.Javascript object>"
            ],
            "application/javascript": [
              "\n",
              "    async function download(id, filename, size) {\n",
              "      if (!google.colab.kernel.accessAllowed) {\n",
              "        return;\n",
              "      }\n",
              "      const div = document.createElement('div');\n",
              "      const label = document.createElement('label');\n",
              "      label.textContent = `Downloading \"${filename}\": `;\n",
              "      div.appendChild(label);\n",
              "      const progress = document.createElement('progress');\n",
              "      progress.max = size;\n",
              "      div.appendChild(progress);\n",
              "      document.body.appendChild(div);\n",
              "\n",
              "      const buffers = [];\n",
              "      let downloaded = 0;\n",
              "\n",
              "      const channel = await google.colab.kernel.comms.open(id);\n",
              "      // Send a message to notify the kernel that we're ready.\n",
              "      channel.send({})\n",
              "\n",
              "      for await (const message of channel.messages) {\n",
              "        // Send a message to notify the kernel that we're ready.\n",
              "        channel.send({})\n",
              "        if (message.buffers) {\n",
              "          for (const buffer of message.buffers) {\n",
              "            buffers.push(buffer);\n",
              "            downloaded += buffer.byteLength;\n",
              "            progress.value = downloaded;\n",
              "          }\n",
              "        }\n",
              "      }\n",
              "      const blob = new Blob(buffers, {type: 'application/binary'});\n",
              "      const a = document.createElement('a');\n",
              "      a.href = window.URL.createObjectURL(blob);\n",
              "      a.download = filename;\n",
              "      div.appendChild(a);\n",
              "      a.click();\n",
              "      div.remove();\n",
              "    }\n",
              "  "
            ]
          },
          "metadata": {}
        },
        {
          "output_type": "display_data",
          "data": {
            "text/plain": [
              "<IPython.core.display.Javascript object>"
            ],
            "application/javascript": [
              "download(\"download_f74e25d0-c4f3-4c05-a7b6-c0f72fada66a\", \"out3.zip\", 6511720)"
            ]
          },
          "metadata": {}
        },
        {
          "output_type": "display_data",
          "data": {
            "text/plain": [
              "<IPython.core.display.Javascript object>"
            ],
            "application/javascript": [
              "\n",
              "    async function download(id, filename, size) {\n",
              "      if (!google.colab.kernel.accessAllowed) {\n",
              "        return;\n",
              "      }\n",
              "      const div = document.createElement('div');\n",
              "      const label = document.createElement('label');\n",
              "      label.textContent = `Downloading \"${filename}\": `;\n",
              "      div.appendChild(label);\n",
              "      const progress = document.createElement('progress');\n",
              "      progress.max = size;\n",
              "      div.appendChild(progress);\n",
              "      document.body.appendChild(div);\n",
              "\n",
              "      const buffers = [];\n",
              "      let downloaded = 0;\n",
              "\n",
              "      const channel = await google.colab.kernel.comms.open(id);\n",
              "      // Send a message to notify the kernel that we're ready.\n",
              "      channel.send({})\n",
              "\n",
              "      for await (const message of channel.messages) {\n",
              "        // Send a message to notify the kernel that we're ready.\n",
              "        channel.send({})\n",
              "        if (message.buffers) {\n",
              "          for (const buffer of message.buffers) {\n",
              "            buffers.push(buffer);\n",
              "            downloaded += buffer.byteLength;\n",
              "            progress.value = downloaded;\n",
              "          }\n",
              "        }\n",
              "      }\n",
              "      const blob = new Blob(buffers, {type: 'application/binary'});\n",
              "      const a = document.createElement('a');\n",
              "      a.href = window.URL.createObjectURL(blob);\n",
              "      a.download = filename;\n",
              "      div.appendChild(a);\n",
              "      a.click();\n",
              "      div.remove();\n",
              "    }\n",
              "  "
            ]
          },
          "metadata": {}
        },
        {
          "output_type": "display_data",
          "data": {
            "text/plain": [
              "<IPython.core.display.Javascript object>"
            ],
            "application/javascript": [
              "download(\"download_1ca7d4c8-d652-44c4-bd5d-f327b6bffae8\", \"out4.zip\", 6636419)"
            ]
          },
          "metadata": {}
        }
      ]
    }
  ]
}